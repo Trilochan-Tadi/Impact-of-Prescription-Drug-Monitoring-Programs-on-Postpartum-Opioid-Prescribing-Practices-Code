{
 "cells": [
  {
   "cell_type": "markdown",
   "metadata": {},
   "source": [
    "This code will identify the type of delivery. "
   ]
  },
  {
   "cell_type": "code",
   "execution_count": 6,
   "metadata": {},
   "outputs": [],
   "source": [
    "import pandas as pd\n",
    "import numpy as np\n",
    "import threading\n",
    "from concurrent.futures import ThreadPoolExecutor, as_completed\n",
    "import warnings\n",
    "import time"
   ]
  },
  {
   "cell_type": "code",
   "execution_count": 5,
   "metadata": {},
   "outputs": [
    {
     "name": "stdout",
     "output_type": "stream",
     "text": [
      "Vaginal delivery codes loaded.\n"
     ]
    }
   ],
   "source": [
    "# Load vaginal delivery codes\n",
    "vaginal_codes_path = r\"Z:\\chelsea\\datalake\\final_codes\\vaginaldelivery_codes.csv\" # Replace with actual path\n",
    "vaginal_codes = pd.read_csv(vaginal_codes_path)[\"dx_cd\"].tolist()\n",
    "print(\"Vaginal delivery codes loaded.\")"
   ]
  },
  {
   "cell_type": "code",
   "execution_count": 4,
   "metadata": {},
   "outputs": [
    {
     "name": "stdout",
     "output_type": "stream",
     "text": [
      "Cesarean delivery codes loaded.\n"
     ]
    }
   ],
   "source": [
    "# Load cesarean delivery codes\n",
    "cesarean_codes_path = r\"Z:\\chelsea\\datalake\\final_codes\\cesarean_codes.csv\"\n",
    "cesarean_codes = pd.read_csv(cesarean_codes_path)[\"dx_cd\"].tolist()\n",
    "print(\"Cesarean delivery codes loaded.\")"
   ]
  },
  {
   "cell_type": "code",
   "execution_count": null,
   "metadata": {},
   "outputs": [],
   "source": [
    "input_file_path =  r\"Z:\\chelsea\\datalake\\New_cohort\\New_filters\\opioid_in_pregnancy.csv\"\n",
    "output_file_path = r\"Z:\\chelsea\\datalake\\New_cohort\\New_filters\\cohort_delivery_type.csv\"\n",
    "chunk_size = 100000  # Adjust based on your system’s memory and performance\n",
    "\n",
    "def separate_type_delivery(df, vaginal_codes, cesarean_codes):\n",
    "    # dates\n",
    "    df['from_dt'] = pd.to_datetime(df['from_dt'], errors='coerce')\n",
    "    df['delivery_dt'] = pd.to_datetime(df['delivery_dt'], errors='coerce')\n",
    "\n",
    "    df = df.sort_values(by=[\"pat_id_p\", \"from_dt\"]).copy()\n",
    "    df['type_of_delivery'] = None\n",
    "\n",
    "    # diag columns present in df\n",
    "    diag_cols_all = [f'diag{i}' for i in range(1, 13)]\n",
    "    diag_cols = [c for c in diag_cols_all if c in df.columns]\n",
    "\n",
    "    # flags (across all diag columns)\n",
    "    df['any_vag_code'] = df[diag_cols].isin(set(vaginal_codes)).any(axis=1)\n",
    "    df['any_ces_code'] = df[diag_cols].isin(set(cesarean_codes)).any(axis=1)\n",
    "\n",
    "    # assign per patient within ±10 days of delivery_dt\n",
    "    for patient_id, group in df.groupby('pat_id_p'):\n",
    "        delivery_date = group.iloc[0]['delivery_dt']\n",
    "        if pd.isna(delivery_date):\n",
    "            # no delivery date -> default to Vaginal for this patient\n",
    "            df.loc[df['pat_id_p'] == patient_id, 'type_of_delivery'] = \"Vaginal\"\n",
    "            continue\n",
    "\n",
    "        window_start = delivery_date - pd.Timedelta(days=10)\n",
    "        window_end   = delivery_date + pd.Timedelta(days=10)\n",
    "\n",
    "        in_window = group['from_dt'].between(window_start, window_end)\n",
    "\n",
    "        has_vag = (group.loc[in_window, 'any_vag_code']).any()\n",
    "        has_ces = (group.loc[in_window, 'any_ces_code']).any()\n",
    "\n",
    "        # Priority: Vaginal > Cesarean > (neither -> Vaginal)\n",
    "        if has_vag:\n",
    "            label = \"Vaginal\"\n",
    "        elif has_ces:\n",
    "            label = \"Cesarean\"\n",
    "        else:\n",
    "            label = \"Vaginal\"\n",
    "\n",
    "        df.loc[df['pat_id_p'] == patient_id, 'type_of_delivery'] = label\n",
    "\n",
    "    # clean up helper cols\n",
    "    df.drop(columns=['any_vag_code', 'any_ces_code'], inplace=True, errors='ignore')\n",
    "    return df\n",
    "\n",
    "\n",
    "def process_data_sequentially(vaginal_codes, cesarean_codes):\n",
    "    total_rows = sum(1 for _ in open(input_file_path)) - 1\n",
    "    chunks = int(np.ceil(total_rows / chunk_size))\n",
    "    start_time = time.time()\n",
    "\n",
    "    with pd.read_csv(input_file_path, chunksize=chunk_size) as reader:\n",
    "        for chunk_idx, chunk_df in enumerate(reader):\n",
    "            print(f\"\\nProcessing chunk {chunk_idx + 1}/{chunks}...\")\n",
    "\n",
    "            # Convert dates early\n",
    "            chunk_df['from_dt'] = pd.to_datetime(chunk_df['from_dt'], errors='coerce')\n",
    "            chunk_df['delivery_dt'] = pd.to_datetime(chunk_df['delivery_dt'], errors='coerce')\n",
    "\n",
    "            processed_chunk = separate_type_delivery(chunk_df, vaginal_codes, cesarean_codes)\n",
    "\n",
    "            # NOTE: We no longer drop 'Both' since it is never assigned now.\n",
    "            # Keep all rows with assigned type.\n",
    "            # (Optional) If you only want rows where a type was assigned:\n",
    "            processed_chunk = processed_chunk[processed_chunk['type_of_delivery'].notna()]\n",
    "\n",
    "            mode = 'a' if chunk_idx > 0 else 'w'\n",
    "            processed_chunk.to_csv(output_file_path, mode=mode, index=False, header=(chunk_idx == 0))\n",
    "\n",
    "            elapsed = time.time() - start_time\n",
    "            rem_time = (elapsed / (chunk_idx + 1)) * (chunks - chunk_idx - 1)\n",
    "            h, r = divmod(rem_time, 3600)\n",
    "            m, s = divmod(r, 60)\n",
    "            progress = ((chunk_idx + 1) / chunks) * 100\n",
    "\n",
    "            print(f\"Chunk {chunk_idx + 1}/{chunks} processed.\")\n",
    "            print(f\"Estimated remaining: {int(h):02}:{int(m):02}:{int(s):02}\")\n",
    "            print(f\"Progress: {progress:.2f}%\")\n",
    "\n",
    "    total_elapsed = time.time() - start_time\n",
    "    h, r = divmod(total_elapsed, 3600)\n",
    "    m, s = divmod(r, 60)\n",
    "    print(f\"\\nTotal processing time: {int(h):02}:{int(m):02}:{int(s):02})\")\n",
    "\n",
    "\n",
    "# Run\n",
    "process_data_sequentially(vaginal_codes, cesarean_codes)\n",
    "\n"
   ]
  }
 ],
 "metadata": {
  "interpreter": {
   "hash": "03eb0f413ac8a21b237757e6c01d7f64cf7b4655952acb378d042bd2774cacd1"
  },
  "kernelspec": {
   "display_name": "Python 3.11.7 ('Isabel')",
   "language": "python",
   "name": "python3"
  },
  "language_info": {
   "codemirror_mode": {
    "name": "ipython",
    "version": 3
   },
   "file_extension": ".py",
   "mimetype": "text/x-python",
   "name": "python",
   "nbconvert_exporter": "python",
   "pygments_lexer": "ipython3",
   "version": "3.11.7"
  },
  "orig_nbformat": 4
 },
 "nbformat": 4,
 "nbformat_minor": 2
}
