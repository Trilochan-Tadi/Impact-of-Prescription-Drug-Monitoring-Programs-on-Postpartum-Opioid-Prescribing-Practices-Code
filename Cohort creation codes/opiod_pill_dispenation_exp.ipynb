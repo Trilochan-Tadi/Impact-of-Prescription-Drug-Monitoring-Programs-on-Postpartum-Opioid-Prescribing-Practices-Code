{
 "cells": [
  {
   "cell_type": "code",
   "execution_count": 21,
   "metadata": {},
   "outputs": [],
   "source": [
    "import pandas as pd\n",
    "import numpy as np\n",
    "import warnings\n",
    "import time\n",
    "import re\n",
    "\n",
    "# Suppress warnings for cleaner output\n",
    "warnings.filterwarnings('ignore')"
   ]
  },
  {
   "cell_type": "code",
   "execution_count": 22,
   "metadata": {},
   "outputs": [],
   "source": [
    "# Function 1: Check if Opioid was Taken in the Week After Delivery\n",
    "def check_opioid_after_delivery_2(df: pd.DataFrame,\n",
    "                                  delivery_dt: str = \"delivery_dt\",\n",
    "                                  opioid_dates: str = \"opioid_dates\",\n",
    "                                  opioid_week_ad: str = \"opioid_week_ad\"):\n",
    "    \"\"\"\n",
    "    Checks if the patient received opioids in the week after delivery.\n",
    "    \n",
    "    Returns\n",
    "    -------\n",
    "    pd.DataFrame\n",
    "        A DataFrame with an additional column indicating if the patient received opioids in the week after delivery.\n",
    "    \"\"\"\n",
    "    result_df = pd.DataFrame()\n",
    "\n",
    "    for index, row in df.iterrows():\n",
    "        delivery_dt_7 = row[delivery_dt] + pd.Timedelta(days=7)\n",
    "        unique_dates = row[opioid_dates].split(', ')\n",
    "        \n",
    "        opioid_dts = [pd.to_datetime(i.strip(\" Timestamp('')\")) for i in unique_dates]\n",
    "        \n",
    "        opioid_in_p = 'No'\n",
    "        for date in opioid_dts:\n",
    "            if row[delivery_dt] <= date <= delivery_dt_7:\n",
    "                opioid_in_p = 'Yes'\n",
    "                break\n",
    "        row[opioid_week_ad] = opioid_in_p\n",
    "        result_df = pd.concat([result_df, pd.DataFrame(row).transpose()])\n",
    "    \n",
    "    return result_df\n",
    "\n",
    "# Function 2: Extract Opioids\n",
    "def extract_opioids(name, strength):\n",
    "    # Ensure name and strength are strings\n",
    "    if not isinstance(name, str):\n",
    "        return None, None\n",
    "    if not isinstance(strength, str):\n",
    "        strength = str(strength)\n",
    "\n",
    "    # Define opioid name patterns\n",
    "    opioid_patterns = [\"codeine\", \"fentanyl\", \"hydrocodone\", \"hydromorphone\",\n",
    "                       \"morphine\", \"oxycodone\", \"tramadol\", \"cod\"]\n",
    "\n",
    "    # Normalize name to lowercase for matching\n",
    "    name_lower = name.lower()\n",
    "    opioid_name = next((op for op in opioid_patterns if op in name_lower), None)\n",
    "\n",
    "    # Extract all numeric values from the strength string\n",
    "    try:\n",
    "        numbers = re.findall(r\"\\d+\\.?\\d*\", strength)\n",
    "        numbers = [float(n) for n in numbers]\n",
    "        opioid_strength = min(numbers) if numbers else None\n",
    "    except:\n",
    "        opioid_strength = None\n",
    "\n",
    "    return opioid_name, opioid_strength\n",
    "\n",
    "\n",
    "# Function 3: Calculate MMEs with Updated Parameters\n",
    "def calculate_mme(row,\n",
    "                  mme_conversion_factor='MME_Conversion_Factor',\n",
    "                  strength_op='strength_op',\n",
    "                  op_quan='op_quan',\n",
    "                  op_dayssup='op_dayssup'):\n",
    "    \"\"\"\n",
    "    Calculates the morphine milligram equivalent (MME) of a prescription.\n",
    "    \n",
    "    Returns\n",
    "    -------\n",
    "    float\n",
    "        MME of the prescription.\n",
    "    \"\"\"\n",
    "    if row[op_dayssup] == 0:\n",
    "        return np.nan\n",
    "    else:\n",
    "        mme = row[strength_op] * (row[op_quan] / row[op_dayssup]) * row[mme_conversion_factor]\n",
    "        return round(mme, 2)"
   ]
  },
  {
   "cell_type": "markdown",
   "metadata": {},
   "source": [
    "Data load"
   ]
  },
  {
   "cell_type": "code",
   "execution_count": 4,
   "metadata": {},
   "outputs": [
    {
     "data": {
      "text/html": [
       "<div>\n",
       "<style scoped>\n",
       "    .dataframe tbody tr th:only-of-type {\n",
       "        vertical-align: middle;\n",
       "    }\n",
       "\n",
       "    .dataframe tbody tr th {\n",
       "        vertical-align: top;\n",
       "    }\n",
       "\n",
       "    .dataframe thead th {\n",
       "        text-align: right;\n",
       "    }\n",
       "</style>\n",
       "<table border=\"1\" class=\"dataframe\">\n",
       "  <thead>\n",
       "    <tr style=\"text-align: right;\">\n",
       "      <th></th>\n",
       "      <th>presc_opioid</th>\n",
       "      <th>product_name</th>\n",
       "      <th>generic_name</th>\n",
       "      <th>strength</th>\n",
       "    </tr>\n",
       "  </thead>\n",
       "  <tbody>\n",
       "    <tr>\n",
       "      <th>0</th>\n",
       "      <td>00093318620</td>\n",
       "      <td>PENCICLOVIR</td>\n",
       "      <td>PENCICLOVIR</td>\n",
       "      <td>1%</td>\n",
       "    </tr>\n",
       "    <tr>\n",
       "      <th>1</th>\n",
       "      <td>00121063810</td>\n",
       "      <td>GUAIFENESIN-DM</td>\n",
       "      <td>DEXTROMETHORPHAN-GUAIFENESIN</td>\n",
       "      <td>10-100 MG/5 ML</td>\n",
       "    </tr>\n",
       "    <tr>\n",
       "      <th>2</th>\n",
       "      <td>43353024228</td>\n",
       "      <td>ZOLPIDEM TARTRATE</td>\n",
       "      <td>ZOLPIDEM TARTRATE</td>\n",
       "      <td>5 MG</td>\n",
       "    </tr>\n",
       "    <tr>\n",
       "      <th>3</th>\n",
       "      <td>43353061260</td>\n",
       "      <td>DOXAZOSIN MESYLATE</td>\n",
       "      <td>DOXAZOSIN MESYLATE</td>\n",
       "      <td>4 MG</td>\n",
       "    </tr>\n",
       "    <tr>\n",
       "      <th>4</th>\n",
       "      <td>51407041501</td>\n",
       "      <td>BUSPIRONE HYDROCHLORIDE</td>\n",
       "      <td>BUSPIRONE HCL</td>\n",
       "      <td>10 MG</td>\n",
       "    </tr>\n",
       "    <tr>\n",
       "      <th>...</th>\n",
       "      <td>...</td>\n",
       "      <td>...</td>\n",
       "      <td>...</td>\n",
       "      <td>...</td>\n",
       "    </tr>\n",
       "    <tr>\n",
       "      <th>189451</th>\n",
       "      <td>40986002163</td>\n",
       "      <td>SMOOTH ANTACID EXTRA STRE</td>\n",
       "      <td>CALCIUM CARBONATE (ANTACID)</td>\n",
       "      <td>750 MG</td>\n",
       "    </tr>\n",
       "    <tr>\n",
       "      <th>189452</th>\n",
       "      <td>51927225800</td>\n",
       "      <td>AZATHIOPRINE</td>\n",
       "      <td>AZATHIOPRINE</td>\n",
       "      <td>NaN</td>\n",
       "    </tr>\n",
       "    <tr>\n",
       "      <th>189453</th>\n",
       "      <td>54868079600</td>\n",
       "      <td>DEPO-TESTOSTERONE</td>\n",
       "      <td>TESTOSTERONE CYPIONATE</td>\n",
       "      <td>100 MG/ML</td>\n",
       "    </tr>\n",
       "    <tr>\n",
       "      <th>189454</th>\n",
       "      <td>55953067340</td>\n",
       "      <td>AMOXICILLIN</td>\n",
       "      <td>AMOXICILLIN</td>\n",
       "      <td>250 MG/5 ML</td>\n",
       "    </tr>\n",
       "    <tr>\n",
       "      <th>189455</th>\n",
       "      <td>72627240401</td>\n",
       "      <td>ASCORBIC ACID</td>\n",
       "      <td>ASCORBIC ACID</td>\n",
       "      <td>15000 MG/30 ML</td>\n",
       "    </tr>\n",
       "  </tbody>\n",
       "</table>\n",
       "<p>189456 rows × 4 columns</p>\n",
       "</div>"
      ],
      "text/plain": [
       "       presc_opioid               product_name                  generic_name  \\\n",
       "0       00093318620                PENCICLOVIR                   PENCICLOVIR   \n",
       "1       00121063810             GUAIFENESIN-DM  DEXTROMETHORPHAN-GUAIFENESIN   \n",
       "2       43353024228          ZOLPIDEM TARTRATE             ZOLPIDEM TARTRATE   \n",
       "3       43353061260         DOXAZOSIN MESYLATE            DOXAZOSIN MESYLATE   \n",
       "4       51407041501    BUSPIRONE HYDROCHLORIDE                 BUSPIRONE HCL   \n",
       "...             ...                        ...                           ...   \n",
       "189451  40986002163  SMOOTH ANTACID EXTRA STRE   CALCIUM CARBONATE (ANTACID)   \n",
       "189452  51927225800               AZATHIOPRINE                  AZATHIOPRINE   \n",
       "189453  54868079600          DEPO-TESTOSTERONE        TESTOSTERONE CYPIONATE   \n",
       "189454  55953067340                AMOXICILLIN                   AMOXICILLIN   \n",
       "189455  72627240401              ASCORBIC ACID                 ASCORBIC ACID   \n",
       "\n",
       "              strength  \n",
       "0                   1%  \n",
       "1       10-100 MG/5 ML  \n",
       "2                 5 MG  \n",
       "3                 4 MG  \n",
       "4                10 MG  \n",
       "...                ...  \n",
       "189451          750 MG  \n",
       "189452             NaN  \n",
       "189453       100 MG/ML  \n",
       "189454     250 MG/5 ML  \n",
       "189455  15000 MG/30 ML  \n",
       "\n",
       "[189456 rows x 4 columns]"
      ]
     },
     "execution_count": 4,
     "metadata": {},
     "output_type": "execute_result"
    }
   ],
   "source": [
    "# 3.1: NDC Code Description\n",
    "ndc_file_path = r\"Z:\\lookup\\pp_rx_lookup.csv\"\n",
    "\n",
    "# Load NDC codes with product and generic names\n",
    "ndc_codes_all = pd.read_csv(ndc_file_path, dtype={'ndc': str})\n",
    "ndc_codes_all = ndc_codes_all[['ndc', 'product_name', 'generic_name','strength']]\n",
    "\n",
    "# Rename column for consistency\n",
    "ndc_codes_all = ndc_codes_all.rename(columns={'ndc': 'presc_opioid'})\n",
    "ndc_codes_all['presc_opioid'] = ndc_codes_all['presc_opioid'].astype(str)\n",
    "ndc_codes_all"
   ]
  },
  {
   "cell_type": "code",
   "execution_count": 5,
   "metadata": {},
   "outputs": [
    {
     "data": {
      "text/html": [
       "<div>\n",
       "<style scoped>\n",
       "    .dataframe tbody tr th:only-of-type {\n",
       "        vertical-align: middle;\n",
       "    }\n",
       "\n",
       "    .dataframe tbody tr th {\n",
       "        vertical-align: top;\n",
       "    }\n",
       "\n",
       "    .dataframe thead th {\n",
       "        text-align: right;\n",
       "    }\n",
       "</style>\n",
       "<table border=\"1\" class=\"dataframe\">\n",
       "  <thead>\n",
       "    <tr style=\"text-align: right;\">\n",
       "      <th></th>\n",
       "      <th>product_name</th>\n",
       "      <th>MME_Conversion_Factor</th>\n",
       "    </tr>\n",
       "  </thead>\n",
       "  <tbody>\n",
       "    <tr>\n",
       "      <th>0</th>\n",
       "      <td>ABSTRAL</td>\n",
       "      <td>0.13</td>\n",
       "    </tr>\n",
       "    <tr>\n",
       "      <th>1</th>\n",
       "      <td>ACETAMINOPHEN-CODEINE #4</td>\n",
       "      <td>0.15</td>\n",
       "    </tr>\n",
       "    <tr>\n",
       "      <th>2</th>\n",
       "      <td>ACETAMINOPHEN/CODEINE</td>\n",
       "      <td>0.15</td>\n",
       "    </tr>\n",
       "    <tr>\n",
       "      <th>3</th>\n",
       "      <td>ACETAMINOPHEN/CODEINE #3</td>\n",
       "      <td>0.15</td>\n",
       "    </tr>\n",
       "    <tr>\n",
       "      <th>4</th>\n",
       "      <td>ACETAMINOPHEN/CODEINE #4</td>\n",
       "      <td>0.15</td>\n",
       "    </tr>\n",
       "    <tr>\n",
       "      <th>...</th>\n",
       "      <td>...</td>\n",
       "      <td>...</td>\n",
       "    </tr>\n",
       "    <tr>\n",
       "      <th>93</th>\n",
       "      <td>XARTEMIS XR</td>\n",
       "      <td>1.50</td>\n",
       "    </tr>\n",
       "    <tr>\n",
       "      <th>94</th>\n",
       "      <td>XODOL</td>\n",
       "      <td>1.00</td>\n",
       "    </tr>\n",
       "    <tr>\n",
       "      <th>95</th>\n",
       "      <td>XTAMPZA ER</td>\n",
       "      <td>1.50</td>\n",
       "    </tr>\n",
       "    <tr>\n",
       "      <th>96</th>\n",
       "      <td>ZAMICET</td>\n",
       "      <td>1.00</td>\n",
       "    </tr>\n",
       "    <tr>\n",
       "      <th>97</th>\n",
       "      <td>ZOHYDRO ER</td>\n",
       "      <td>1.00</td>\n",
       "    </tr>\n",
       "  </tbody>\n",
       "</table>\n",
       "<p>98 rows × 2 columns</p>\n",
       "</div>"
      ],
      "text/plain": [
       "                product_name  MME_Conversion_Factor\n",
       "0                    ABSTRAL                   0.13\n",
       "1   ACETAMINOPHEN-CODEINE #4                   0.15\n",
       "2      ACETAMINOPHEN/CODEINE                   0.15\n",
       "3   ACETAMINOPHEN/CODEINE #3                   0.15\n",
       "4   ACETAMINOPHEN/CODEINE #4                   0.15\n",
       "..                       ...                    ...\n",
       "93               XARTEMIS XR                   1.50\n",
       "94                     XODOL                   1.00\n",
       "95                XTAMPZA ER                   1.50\n",
       "96                   ZAMICET                   1.00\n",
       "97                ZOHYDRO ER                   1.00\n",
       "\n",
       "[98 rows x 2 columns]"
      ]
     },
     "execution_count": 5,
     "metadata": {},
     "output_type": "execute_result"
    }
   ],
   "source": [
    "# 3.2: MME Conversion Factor\n",
    "mme_file_path = r\"Z:\\chelsea\\datalake\\final_codes\\mme_conversion_factor.csv\"\n",
    "\n",
    "# Load MME conversion factors\n",
    "conversion_factors = pd.read_csv(mme_file_path)\n",
    "conversion_factors"
   ]
  },
  {
   "cell_type": "code",
   "execution_count": null,
   "metadata": {},
   "outputs": [],
   "source": [
    "# 3.3: Cohort\n",
    "cohort_file_path = r\"Z:/chelsea/datalake/New_cohort/New_filters/cohort_delivery_type_3.csv\"\n",
    "\n",
    "# Load cohort data and sort by patient ID and from date\n",
    "data = pd.read_csv(cohort_file_path)\n",
    "data = data.sort_values(by=['pat_id_p', 'from_dt'])\n",
    "\n",
    "# Remove duplicates\n",
    "data = data.drop_duplicates()\n",
    "print(\"Cohort Data Sample:\\n\", data.head())"
   ]
  },
  {
   "cell_type": "code",
   "execution_count": null,
   "metadata": {},
   "outputs": [],
   "source": [
    "# Step 4.1: Group by `pat_id_p` and aggregate values as unique lists, including `pat_state`\n",
    "data_count = data.groupby('pat_id_p').agg({\n",
    "    'pat_id': 'unique',\n",
    "    'der_yob': 'unique', \n",
    "    'total_pregnancies': 'unique',\n",
    "    'type_of_delivery': 'unique',\n",
    "    'pregnancy_dx_dt': 'unique',\n",
    "    'delivery_dt': 'unique',\n",
    "    'days_between_pd': 'unique',\n",
    "    'last_pat_dt': 'unique',\n",
    "    'opioid_dates': 'unique', \n",
    "    'presc_opioid': 'unique',\n",
    "    'op_dayssup': 'unique',\n",
    "    'op_quan': 'unique',\n",
    "    'pat_state': 'unique',\n",
    "    'pat_Zip3': 'unique'\n",
    "})\n",
    "\n",
    "data_count = data_count.reset_index()\n",
    "data_count\n"
   ]
  },
  {
   "cell_type": "code",
   "execution_count": null,
   "metadata": {},
   "outputs": [],
   "source": [
    "data_count.columns"
   ]
  },
  {
   "cell_type": "code",
   "execution_count": null,
   "metadata": {},
   "outputs": [],
   "source": [
    "columns_df = ['pat_id', 'der_yob', 'type_of_delivery', 'total_pregnancies', 'pregnancy_dx_dt',\n",
    "              'delivery_dt', 'days_between_pd', 'last_pat_dt', 'pat_state','pat_Zip3',\n",
    "              'opioid_dates', 'presc_opioid', 'op_dayssup', 'op_quan']\n",
    "\n",
    "# Extract the first element from lists in each specified column\n",
    "for column in columns_df:\n",
    "    data_count[column] = data_count[column].apply(lambda x: x[0])\n",
    "\n",
    "# Further process specific columns to split string representations of lists into actual lists\n",
    "data_count['opioid_dates'] = data_count['opioid_dates'].apply(lambda x: x.strip(\"[]\").split(','))\n",
    "data_count['presc_opioid'] = data_count['presc_opioid'].apply(lambda x: x.strip(\"['']\").split(','))\n",
    "data_count['op_dayssup'] = data_count['op_dayssup'].apply(lambda x: x.strip(\"[]\").split(','))\n",
    "data_count['op_quan'] = data_count['op_quan'].apply(lambda x: x.strip(\"[]\").split(','))\n",
    "\n",
    "# Display the resulting DataFrame\n",
    "data_count\n"
   ]
  },
  {
   "cell_type": "code",
   "execution_count": null,
   "metadata": {},
   "outputs": [],
   "source": [
    "data_expanded = data_count.explode(['opioid_dates', 'presc_opioid', 'op_dayssup', 'op_quan'])\n",
    "data_expanded['presc_opioid'] = data_expanded['presc_opioid'].str.lstrip(\" '\")\n",
    "data_expanded['presc_opioid'] = data_expanded['presc_opioid'].str.rstrip(\"' \")\n",
    "data_expanded['presc_opioid'] = data_expanded['presc_opioid'].astype(float).astype(int).astype(str)\n",
    "data_expanded = data_expanded.reset_index(drop=True)\n",
    "\n",
    "# Display the resulting DataFrame\n",
    "data_expanded\n"
   ]
  },
  {
   "cell_type": "code",
   "execution_count": null,
   "metadata": {},
   "outputs": [],
   "source": [
    "data_expanded.columns\n",
    "\n",
    "\n"
   ]
  },
  {
   "cell_type": "code",
   "execution_count": 12,
   "metadata": {},
   "outputs": [],
   "source": [
    "data_expanded.to_csv(r\"Z:\\chelsea\\datalake\\New_cohort\\New_filters\\cleaned_dataset2.csv\", index=False)"
   ]
  },
  {
   "cell_type": "code",
   "execution_count": null,
   "metadata": {},
   "outputs": [],
   "source": [
    "main_data_path = r\"Z:\\chelsea\\datalake\\New_cohort\\New_filters\\cleaned_dataset2.csv\"\n",
    "main_data = pd.read_csv(main_data_path, usecols=['pat_id_p', 'presc_opioid'])\n",
    "\n",
    "# Load the NDC codes file\n",
    "ndc_file_path = r\"Z:\\lookup\\pp_rx_lookup.csv\"\n",
    "ndc_codes = pd.read_csv(ndc_file_path, usecols=['ndc', 'product_name', 'generic_name', 'strength'])\n",
    "\n",
    "# Ensure columns are formatted as strings to avoid mismatches\n",
    "main_data['presc_opioid'] = main_data['presc_opioid'].astype(str)\n",
    "ndc_codes['ndc'] = ndc_codes['ndc'].astype(str)\n",
    "\n",
    "# Rename the ndc column in the NDC file to match the `presc_opioid` column for the merge\n",
    "ndc_codes = ndc_codes.rename(columns={'ndc': 'presc_opioid'})\n",
    "\n",
    "# Merge the main data with the NDC file on `presc_opioid`\n",
    "merged_data = pd.merge(main_data, ndc_codes, how='left', on='presc_opioid')\n",
    "\n",
    "# Display the merged result\n",
    "print(merged_data.head())\n",
    "\n",
    "# Optionally, save the merged result to a new file\n",
    "merged_data.to_csv(\"merged_output.csv\", index=False)"
   ]
  },
  {
   "cell_type": "code",
   "execution_count": null,
   "metadata": {},
   "outputs": [],
   "source": [
    "main_data_path = r\"Z:\\chelsea\\datalake\\New_cohort\\New_filters\\cleaned_dataset2.csv\"\n",
    "ndc_file_path = r\"Z:\\lookup\\pp_rx_lookup.csv\"\n",
    "\n",
    "# Load the main data file and the NDC codes file\n",
    "main_data = pd.read_csv(main_data_path)\n",
    "ndc_codes = pd.read_csv(ndc_file_path, usecols=['ndc', 'product_name', 'generic_name', 'strength'])\n",
    "\n",
    "# Ensure the columns are formatted as strings to avoid mismatches\n",
    "main_data['presc_opioid'] = main_data['presc_opioid'].astype(str)\n",
    "ndc_codes['ndc'] = ndc_codes['ndc'].astype(str)\n",
    "\n",
    "# Rename the 'ndc' column in the NDC file to match the 'presc_opioid' column for the merge\n",
    "ndc_codes = ndc_codes.rename(columns={'ndc': 'presc_opioid', \n",
    "                                      'product_name': 'ProductName', \n",
    "                                      'generic_name': 'GenericName', \n",
    "                                      'strength': 'Strength'})\n",
    "\n",
    "# Merge the main data with the NDC file on 'presc_opioid'\n",
    "merged_data = pd.merge(main_data, ndc_codes, how='left', on='presc_opioid')\n",
    "\n",
    "# Display the merged result to check if all columns are retained\n",
    "print(merged_data.head())\n",
    "print(merged_data.columns.tolist())"
   ]
  },
  {
   "cell_type": "code",
   "execution_count": null,
   "metadata": {},
   "outputs": [],
   "source": [
    "merged_data"
   ]
  },
  {
   "cell_type": "markdown",
   "metadata": {},
   "source": [
    "Extracing opioids types and strength"
   ]
  },
  {
   "cell_type": "code",
   "execution_count": null,
   "metadata": {},
   "outputs": [],
   "source": [
    "merged_data['Strength'] = merged_data['Strength'].astype(str)\n",
    "merged_data[['generic_name_op','strength_op']] = merged_data.apply(\n",
    "    lambda row: pd.Series(extract_opioids(row['GenericName'],row['Strength'])),\n",
    "    axis=1\n",
    ")\n",
    "\n",
    "merged_data"
   ]
  },
  {
   "cell_type": "code",
   "execution_count": null,
   "metadata": {},
   "outputs": [],
   "source": [
    "merged_data[merged_data['strength_op'].isna()][['GenericName', 'Strength']].value_counts().reset_index(name='count')\n"
   ]
  },
  {
   "cell_type": "code",
   "execution_count": null,
   "metadata": {},
   "outputs": [],
   "source": [
    "opioid_types = {\n",
    "    \"cod\": \"codeine\",\n",
    "}\n",
    "\n",
    "# Apply the replacement in the generic_name_op column\n",
    "merged_data[\"generic_name_op\"] = merged_data[\"generic_name_op\"].replace(opioid_types, regex=False)\n",
    "\n",
    "merged_data"
   ]
  },
  {
   "cell_type": "code",
   "execution_count": null,
   "metadata": {},
   "outputs": [],
   "source": [
    "print(merged_data['ProductName'].unique())"
   ]
  },
  {
   "cell_type": "code",
   "execution_count": null,
   "metadata": {},
   "outputs": [],
   "source": [
    "print(conversion_factors['product_name'].unique())"
   ]
  },
  {
   "cell_type": "code",
   "execution_count": 28,
   "metadata": {},
   "outputs": [],
   "source": [
    "merged_data = merged_data.rename(columns={'ProductName':'product_name'})"
   ]
  },
  {
   "cell_type": "code",
   "execution_count": 30,
   "metadata": {},
   "outputs": [],
   "source": [
    "merged_data['product_name'] = merged_data['product_name'].astype(str) \n",
    "\n"
   ]
  },
  {
   "cell_type": "code",
   "execution_count": 31,
   "metadata": {},
   "outputs": [],
   "source": [
    "conversion_factors['product_name']=conversion_factors['product_name'].astype(str)"
   ]
  },
  {
   "cell_type": "code",
   "execution_count": null,
   "metadata": {},
   "outputs": [],
   "source": [
    "merged_data = pd.merge(merged_data, conversion_factors, on=\"product_name\")\n",
    "merged_data"
   ]
  },
  {
   "cell_type": "code",
   "execution_count": null,
   "metadata": {},
   "outputs": [],
   "source": [
    "columns_df = [\"op_dayssup\", \"op_quan\", \"strength_op\", \"MME_Conversion_Factor\"]\n",
    "\n",
    "# Clean and convert each specified column\n",
    "for column in columns_df:\n",
    "    # Remove any surrounding single quotes or whitespace and then convert to float\n",
    "    merged_data[column] = merged_data[column].apply(lambda x: str(x).strip(\" '\"))\n",
    "    merged_data[column] = merged_data[column].apply(lambda x: float(x) if x else None)\n",
    "\n",
    "merged_data"
   ]
  },
  {
   "cell_type": "markdown",
   "metadata": {},
   "source": [
    "Calcaulting MME"
   ]
  },
  {
   "cell_type": "code",
   "execution_count": null,
   "metadata": {},
   "outputs": [],
   "source": [
    "merged_data['mme'] = merged_data.apply(calculate_mme, axis=1)\n",
    "\n",
    "merged_data"
   ]
  },
  {
   "cell_type": "code",
   "execution_count": 36,
   "metadata": {},
   "outputs": [],
   "source": [
    "merged_data['delivery_dt']= pd.to_datetime(merged_data['delivery_dt'])"
   ]
  },
  {
   "cell_type": "code",
   "execution_count": 37,
   "metadata": {},
   "outputs": [],
   "source": [
    "merged_data = check_opioid_after_delivery_2(merged_data)"
   ]
  },
  {
   "cell_type": "code",
   "execution_count": null,
   "metadata": {},
   "outputs": [],
   "source": [
    "merged_data"
   ]
  },
  {
   "cell_type": "code",
   "execution_count": null,
   "metadata": {},
   "outputs": [],
   "source": [
    "merged_data['delivery_dt']= pd.to_datetime(merged_data['delivery_dt'],errors='coerce')\n",
    "merged_data['delivery_dt'] = merged_data['delivery_dt'].dt.strftime('%Y-%m-%d')\n",
    "merged_data"
   ]
  },
  {
   "cell_type": "code",
   "execution_count": null,
   "metadata": {},
   "outputs": [],
   "source": [
    "opioid_ndc_file_path = r\"Z:\\chelsea\\datalake\\final_codes\\ndc_opioids_codes.csv\"\n",
    "opioid_ndc_codes = pd.read_csv(opioid_ndc_file_path)\n",
    "\n",
    "# Ensure both columns are formatted as strings to avoid mismatches\n",
    "merged_data['presc_opioid'] = merged_data['presc_opioid'].astype(str)\n",
    "opioid_ndc_codes['ndc'] = opioid_ndc_codes['ndc'].astype(str)\n",
    "\n",
    "# Check if each 'presc_opioid' in merged_data matches any NDC code in opioid_ndc_codes\n",
    "merged_data['opioid_prescribed'] = merged_data['presc_opioid'].apply(\n",
    "    lambda x: \"Yes\" if x in opioid_ndc_codes['ndc'].values else \"No\"\n",
    ")\n",
    "\n",
    "# Display the result\n",
    "merged_data.head()"
   ]
  },
  {
   "cell_type": "code",
   "execution_count": 41,
   "metadata": {},
   "outputs": [],
   "source": [
    "merged_data.to_csv(r\"Z:\\chelsea\\datalake\\New_cohort\\New_filters\\cohort_opioid2.csv\",) "
   ]
  },
  {
   "cell_type": "code",
   "execution_count": null,
   "metadata": {},
   "outputs": [],
   "source": [
    "file_path = r\"Z:\\chelsea\\datalake\\New_cohort\\New_filters\\cohort_opioid2.csv\"\n",
    "merged_data = pd.read_csv(file_path)\n",
    "\n",
    "# Recalculate MME based on the formula (strength_op * op_quan / op_dayssup) * MME_Conversion_Factor\n",
    "merged_data['mme'] = (merged_data['strength_op'] * merged_data['op_quan'] / merged_data['op_dayssup']) * merged_data['MME_Conversion_Factor']\n",
    "\n",
    "merged_data"
   ]
  },
  {
   "cell_type": "code",
   "execution_count": null,
   "metadata": {},
   "outputs": [],
   "source": [
    "merged_data.columns"
   ]
  },
  {
   "cell_type": "code",
   "execution_count": null,
   "metadata": {},
   "outputs": [],
   "source": [
    "columns_to_keep = [\n",
    "    'pat_id_p', 'pat_id', 'der_yob', 'total_pregnancies',\n",
    "       'type_of_delivery', 'pregnancy_dx_dt', 'delivery_dt', 'days_between_pd',\n",
    "       'last_pat_dt', 'opioid_dates', 'presc_opioid', 'op_dayssup', 'op_quan',\n",
    "       'pat_state', 'pat_Zip3', 'product_name', 'GenericName', 'Strength',\n",
    "       'generic_name_op', 'strength_op', 'MME_Conversion_Factor', 'mme',\n",
    "       'opioid_week_ad', 'opioid_prescribed'\n",
    "]\n",
    "\n",
    "# Update merged_data to only include the specified columns\n",
    "merged_data = merged_data[columns_to_keep]\n",
    "\n",
    "# Display the updated DataFrame\n",
    "merged_data\n"
   ]
  },
  {
   "cell_type": "code",
   "execution_count": 48,
   "metadata": {},
   "outputs": [],
   "source": [
    "merged_data.to_csv(r\"Z:\\chelsea\\datalake\\New_cohort\\New_filters\\cohort_opioid2.csv\", index=False) "
   ]
  },
  {
   "cell_type": "code",
   "execution_count": null,
   "metadata": {},
   "outputs": [],
   "source": [
    "merged_data.columns"
   ]
  }
 ],
 "metadata": {
  "interpreter": {
   "hash": "03eb0f413ac8a21b237757e6c01d7f64cf7b4655952acb378d042bd2774cacd1"
  },
  "kernelspec": {
   "display_name": "Python 3.11.7 ('Isabel')",
   "language": "python",
   "name": "python3"
  },
  "language_info": {
   "codemirror_mode": {
    "name": "ipython",
    "version": 3
   },
   "file_extension": ".py",
   "mimetype": "text/x-python",
   "name": "python",
   "nbconvert_exporter": "python",
   "pygments_lexer": "ipython3",
   "version": "3.11.7"
  },
  "orig_nbformat": 4
 },
 "nbformat": 4,
 "nbformat_minor": 2
}
